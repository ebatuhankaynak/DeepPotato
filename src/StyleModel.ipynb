{
 "cells": [
  {
   "cell_type": "code",
   "execution_count": 6,
   "metadata": {},
   "outputs": [],
   "source": [
    "import tensorflow as tf\n",
    "from keras.models import load_model\n",
    "from keras.layers import *\n",
    "from keras import Model, Sequential, Input\n",
    "from keras import optimizers\n",
    "from keras.regularizers import l2\n",
    "import keras.backend as K\n",
    "import numpy as np\n",
    "from pprint import pprint\n",
    "import pickle\n",
    "\n",
    "\n",
    "def load(filepath):\n",
    "    with open(filepath, 'rb') as f:\n",
    "        return pickle.load(f)\n",
    "\n",
    "dataTriple = load('obj/triplets.pkl')\n",
    "triplets = dataTriple['triplets'] / 256"
   ]
  },
  {
   "cell_type": "code",
   "execution_count": 7,
   "metadata": {},
   "outputs": [],
   "source": [
    "def get_darknet():\n",
    "    model = load_model('darknet.h5')\n",
    "    for layer in model.layers:\n",
    "        layer.trainable = False\n",
    "    return model\n",
    "\n",
    "def make_style_model():\n",
    "    darknet = get_darknet()\n",
    "    \n",
    "    # pretrained layers\n",
    "    inputs = darknet.layers[0].input\n",
    "    x = darknet.layers[16].output\n",
    "    \n",
    "    # new layers\n",
    "    x = Flatten()(x)\n",
    "    x = Dense(256, activation='relu')(x)\n",
    "    x = Dense(256, activation='relu')(x)\n",
    "    x = Lambda(lambda x: tf.nn.l2_normalize(x, axis=-1))(x)\n",
    "    # Embedding model produces style embeddings\n",
    "    embedding_model = Model(inputs, x)\n",
    "    \n",
    "    # Crate triple model to train the base model\n",
    "    # inputs for anchor, positive image, and negative image\n",
    "    input_anc = Input((256,256,3))\n",
    "    input_pos = Input((256,256,3))\n",
    "    input_neg = Input((256,256,3))\n",
    "    \n",
    "    # the embedding of the anchor, positive image, and negative image\n",
    "    embed_anc = embedding_model(input_anc)\n",
    "    embed_pos = embedding_model(input_pos)\n",
    "    embed_neg = embedding_model(input_neg)\n",
    "    \n",
    "    # distance between anchor and positive embeddings\n",
    "    dist_pos = Lambda(sqEucl, output_shape=(1,))([embed_anc, embed_pos])\n",
    "    # distance between anchor and negative embeddings\n",
    "    dist_neg = Lambda(sqEucl, output_shape=(1,))([embed_anc, embed_neg])\n",
    "    \n",
    "    # The tiplet_loss: dist_pos - dist_neg + 1 < 0\n",
    "    triple_loss = Lambda(triplet_loss, output_shape=(1,))([dist_pos, dist_neg])\n",
    "    # triplet model, for training the embedding model\n",
    "    triple_model = Model([input_anc, input_pos, input_neg], triple_loss)\n",
    "    \n",
    "    return triple_model, embedding_model\n",
    "\n",
    "def triplet_loss(x):\n",
    "    return K.maximum(x[0] - x[1] + 1, 0)\n",
    "\n",
    "def sqEucl(x):\n",
    "    return K.sum(K.square(x[0] - x[1]), axis=-1, keepdims=True)\n",
    "\n",
    "def norm(x):\n",
    "    return K.sqrt(sqEucl(x))\n",
    "    \n",
    "def identity(y_true, y_pred):\n",
    "    return K.mean(K.square(y_pred))"
   ]
  },
  {
   "cell_type": "code",
   "execution_count": null,
   "metadata": {},
   "outputs": [
    {
     "name": "stderr",
     "output_type": "stream",
     "text": [
      "/home/henrik/miniconda3/lib/python3.6/site-packages/keras/models.py:255: UserWarning: No training configuration found in save file: the model was *not* compiled. Compile it manually.\n",
      "  warnings.warn('No training configuration found in save file: '\n"
     ]
    },
    {
     "name": "stdout",
     "output_type": "stream",
     "text": [
      "WARNING:tensorflow:Variable *= will be deprecated. Use variable.assign_mul if you want assignment to the variable value or 'x = x * y' if you want a new python Tensor object.\n",
      "Epoch 1/50\n",
      "  64/1000 [>.............................] - ETA: 3:59 - loss: 1.0882"
     ]
    }
   ],
   "source": [
    "tripleModel, pairModel = make_style_model()\n",
    "\n",
    "sgd = optimizers.SGD(lr=0.001, decay=1e-6, momentum=0.9, nesterov=True)\n",
    "tripleModel.compile(optimizer=sgd, loss=identity)\n",
    "pairModel.compile(optimizer=sgd, loss=identity)\n",
    "alphas = np.zeros(triplets.shape[0])\n",
    "tripleModel.fit([triplets[:, 0], triplets[:, 1], triplets[:, 2]], alphas, epochs=50)\n",
    "\n",
    "embedding_model.save('obj/style_emb_model.h5')"
   ]
  },
  {
   "cell_type": "code",
   "execution_count": null,
   "metadata": {},
   "outputs": [],
   "source": []
  }
 ],
 "metadata": {
  "kernelspec": {
   "display_name": "Python 3",
   "language": "python",
   "name": "python3"
  },
  "language_info": {
   "codemirror_mode": {
    "name": "ipython",
    "version": 3
   },
   "file_extension": ".py",
   "mimetype": "text/x-python",
   "name": "python",
   "nbconvert_exporter": "python",
   "pygments_lexer": "ipython3",
   "version": "3.6.5"
  }
 },
 "nbformat": 4,
 "nbformat_minor": 2
}
