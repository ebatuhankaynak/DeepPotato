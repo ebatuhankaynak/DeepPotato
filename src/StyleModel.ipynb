{
 "cells": [
  {
   "cell_type": "code",
   "execution_count": 10,
   "metadata": {},
   "outputs": [
    {
     "name": "stdout",
     "output_type": "stream",
     "text": [
      "The autoreload extension is already loaded. To reload it, use:\n",
      "  %reload_ext autoreload\n"
     ]
    }
   ],
   "source": [
    "from keras.models import load_model\n",
    "import keras.backend as K\n",
    "from keras.layers import *\n",
    "from keras import Model\n",
    "import numpy as np\n",
    "import tensorflow as tf\n",
    "from util import *\n",
    "%load_ext autoreload\n",
    "%autoreload 2\n",
    "%matplotlib inline\n"
   ]
  },
  {
   "cell_type": "code",
   "execution_count": 11,
   "metadata": {},
   "outputs": [],
   "source": [
    "triplets = np.load('obj/triplets.npy')"
   ]
  },
  {
   "cell_type": "code",
   "execution_count": 45,
   "metadata": {},
   "outputs": [],
   "source": [
    "def gram(x):\n",
    "    m, n = map(int, x.shape[2:])\n",
    "    G = gram_matrix(x)\n",
    "    return G / (4 * m**2 * n**2)\n",
    "\n",
    "def get_style_model():\n",
    "    model = load_model('obj/darknet_avgpooling.h5')\n",
    "    for layer in model.layers[:-12]:\n",
    "        layer.trainable = False\n",
    "    x = model.get_layer('average_pooling2d_6').output\n",
    "    x = GlobalAveragePooling2D()(x)\n",
    "    return Model(model.input, x, name='style_model')"
   ]
  },
  {
   "cell_type": "code",
   "execution_count": 46,
   "metadata": {},
   "outputs": [],
   "source": [
    "shape = (256, 256, 3)\n",
    "\n",
    "def style_trainer(triplets, model, epochs):\n",
    "    input_a = Input(shape)\n",
    "    input_p = Input(shape)\n",
    "    input_n = Input(shape)\n",
    "\n",
    "    emb_a = model(input_a)\n",
    "    emb_p = model(input_p)\n",
    "    emb_n = model(input_n)\n",
    "\n",
    "    dist_p = Lambda(euclSq)([emb_a, emb_p])\n",
    "    dist_n = Lambda(euclSq)([emb_a, emb_n])\n",
    "    loss = Lambda(triplet_loss)([dist_p, dist_n])\n",
    "    triple_model = Model([input_a, input_p, input_n], loss)\n",
    "\n",
    "    triple_model.compile(optimizer='adam', loss='mean_absolute_error')\n",
    "    alpha = np.zeros(triplets.shape[0])\n",
    "    triple_model.fit([triplets[:, 0], triplets[:, 1], triplets[:, 2]], alpha, epochs=epochs, batch_size=32)"
   ]
  },
  {
   "cell_type": "code",
   "execution_count": 47,
   "metadata": {},
   "outputs": [
    {
     "name": "stdout",
     "output_type": "stream",
     "text": [
      "_________________________________________________________________\n",
      "Layer (type)                 Output Shape              Param #   \n",
      "=================================================================\n",
      "input_1 (InputLayer)         (None, 256, 256, 3)       0         \n",
      "_________________________________________________________________\n",
      "conv2d_1 (Conv2D)            (None, 256, 256, 16)      432       \n",
      "_________________________________________________________________\n",
      "batch_normalization_1 (Batch (None, 256, 256, 16)      64        \n",
      "_________________________________________________________________\n",
      "leaky_re_lu_1 (LeakyReLU)    (None, 256, 256, 16)      0         \n",
      "_________________________________________________________________\n",
      "average_pooling2d_1 (Average (None, 128, 128, 16)      0         \n",
      "_________________________________________________________________\n",
      "conv2d_2 (Conv2D)            (None, 128, 128, 32)      4608      \n",
      "_________________________________________________________________\n",
      "batch_normalization_2 (Batch (None, 128, 128, 32)      128       \n",
      "_________________________________________________________________\n",
      "leaky_re_lu_2 (LeakyReLU)    (None, 128, 128, 32)      0         \n",
      "_________________________________________________________________\n",
      "average_pooling2d_2 (Average (None, 64, 64, 32)        0         \n",
      "_________________________________________________________________\n",
      "conv2d_3 (Conv2D)            (None, 64, 64, 64)        18432     \n",
      "_________________________________________________________________\n",
      "batch_normalization_3 (Batch (None, 64, 64, 64)        256       \n",
      "_________________________________________________________________\n",
      "leaky_re_lu_3 (LeakyReLU)    (None, 64, 64, 64)        0         \n",
      "_________________________________________________________________\n",
      "average_pooling2d_3 (Average (None, 32, 32, 64)        0         \n",
      "_________________________________________________________________\n",
      "conv2d_4 (Conv2D)            (None, 32, 32, 128)       73728     \n",
      "_________________________________________________________________\n",
      "batch_normalization_4 (Batch (None, 32, 32, 128)       512       \n",
      "_________________________________________________________________\n",
      "leaky_re_lu_4 (LeakyReLU)    (None, 32, 32, 128)       0         \n",
      "_________________________________________________________________\n",
      "average_pooling2d_4 (Average (None, 16, 16, 128)       0         \n",
      "_________________________________________________________________\n",
      "conv2d_5 (Conv2D)            (None, 16, 16, 256)       294912    \n",
      "_________________________________________________________________\n",
      "batch_normalization_5 (Batch (None, 16, 16, 256)       1024      \n",
      "_________________________________________________________________\n",
      "leaky_re_lu_5 (LeakyReLU)    (None, 16, 16, 256)       0         \n",
      "_________________________________________________________________\n",
      "average_pooling2d_5 (Average (None, 8, 8, 256)         0         \n",
      "_________________________________________________________________\n",
      "conv2d_6 (Conv2D)            (None, 8, 8, 512)         1179648   \n",
      "_________________________________________________________________\n",
      "batch_normalization_6 (Batch (None, 8, 8, 512)         2048      \n",
      "_________________________________________________________________\n",
      "leaky_re_lu_6 (LeakyReLU)    (None, 8, 8, 512)         0         \n",
      "_________________________________________________________________\n",
      "average_pooling2d_6 (Average (None, 4, 4, 512)         0         \n",
      "_________________________________________________________________\n",
      "global_average_pooling2d_5 ( (None, 512)               0         \n",
      "=================================================================\n",
      "Total params: 1,575,792\n",
      "Trainable params: 1,180,672\n",
      "Non-trainable params: 395,120\n",
      "_________________________________________________________________\n"
     ]
    },
    {
     "name": "stderr",
     "output_type": "stream",
     "text": [
      "/home/henrik/miniconda3/lib/python3.6/site-packages/keras/models.py:255: UserWarning: No training configuration found in save file: the model was *not* compiled. Compile it manually.\n",
      "  warnings.warn('No training configuration found in save file: '\n"
     ]
    }
   ],
   "source": [
    "model = get_style_model()\n",
    "model.summary()"
   ]
  },
  {
   "cell_type": "code",
   "execution_count": 48,
   "metadata": {},
   "outputs": [
    {
     "name": "stdout",
     "output_type": "stream",
     "text": [
      "Epoch 1/40\n",
      "800/800 [==============================] - 5s 7ms/step - loss: 1.9793\n",
      "Epoch 2/40\n",
      "800/800 [==============================] - 3s 4ms/step - loss: 0.7315\n",
      "Epoch 3/40\n",
      "800/800 [==============================] - 3s 4ms/step - loss: 0.4998\n",
      "Epoch 4/40\n",
      "800/800 [==============================] - 3s 4ms/step - loss: 0.3891\n",
      "Epoch 5/40\n",
      "800/800 [==============================] - 3s 4ms/step - loss: 0.3391\n",
      "Epoch 6/40\n",
      "800/800 [==============================] - 3s 4ms/step - loss: 0.3190\n",
      "Epoch 7/40\n",
      "800/800 [==============================] - 3s 4ms/step - loss: 0.2864\n",
      "Epoch 8/40\n",
      "800/800 [==============================] - 3s 4ms/step - loss: 0.2846\n",
      "Epoch 9/40\n",
      "800/800 [==============================] - 3s 4ms/step - loss: 0.2795\n",
      "Epoch 10/40\n",
      "800/800 [==============================] - 3s 4ms/step - loss: 0.2789\n",
      "Epoch 11/40\n",
      "800/800 [==============================] - 3s 4ms/step - loss: 0.2800\n",
      "Epoch 12/40\n",
      "800/800 [==============================] - 3s 4ms/step - loss: 0.2888\n",
      "Epoch 13/40\n",
      "800/800 [==============================] - 3s 4ms/step - loss: 0.2775\n",
      "Epoch 14/40\n",
      "800/800 [==============================] - 3s 4ms/step - loss: 0.2750\n",
      "Epoch 15/40\n",
      "800/800 [==============================] - 3s 4ms/step - loss: 0.2983\n",
      "Epoch 16/40\n",
      "800/800 [==============================] - 3s 4ms/step - loss: 0.3110\n",
      "Epoch 17/40\n",
      "800/800 [==============================] - 3s 4ms/step - loss: 0.2717\n",
      "Epoch 18/40\n",
      "800/800 [==============================] - 3s 4ms/step - loss: 0.3247\n",
      "Epoch 19/40\n",
      "800/800 [==============================] - 3s 4ms/step - loss: 0.2920\n",
      "Epoch 20/40\n",
      "800/800 [==============================] - 3s 4ms/step - loss: 0.2882\n",
      "Epoch 21/40\n",
      "800/800 [==============================] - 3s 4ms/step - loss: 0.2954\n",
      "Epoch 22/40\n",
      "800/800 [==============================] - 3s 4ms/step - loss: 0.2950\n",
      "Epoch 23/40\n",
      "800/800 [==============================] - 3s 4ms/step - loss: 0.3147\n",
      "Epoch 24/40\n",
      "800/800 [==============================] - 3s 4ms/step - loss: 0.3023\n",
      "Epoch 25/40\n",
      "800/800 [==============================] - 3s 4ms/step - loss: 0.3166\n",
      "Epoch 26/40\n",
      "800/800 [==============================] - 3s 4ms/step - loss: 0.2863\n",
      "Epoch 27/40\n",
      "800/800 [==============================] - 3s 4ms/step - loss: 0.2970\n",
      "Epoch 28/40\n",
      "800/800 [==============================] - 3s 4ms/step - loss: 0.2789\n",
      "Epoch 29/40\n",
      "800/800 [==============================] - 3s 4ms/step - loss: 0.2784\n",
      "Epoch 30/40\n",
      "800/800 [==============================] - 3s 4ms/step - loss: 0.2942\n",
      "Epoch 31/40\n",
      "800/800 [==============================] - 3s 4ms/step - loss: 0.2953\n",
      "Epoch 32/40\n",
      "800/800 [==============================] - 3s 4ms/step - loss: 0.3048\n",
      "Epoch 33/40\n",
      "800/800 [==============================] - 3s 4ms/step - loss: 0.3024\n",
      "Epoch 34/40\n",
      "800/800 [==============================] - 3s 4ms/step - loss: 0.3003\n",
      "Epoch 35/40\n",
      "800/800 [==============================] - 3s 4ms/step - loss: 0.2881\n",
      "Epoch 36/40\n",
      "800/800 [==============================] - 3s 4ms/step - loss: 0.2911\n",
      "Epoch 37/40\n",
      "800/800 [==============================] - 3s 4ms/step - loss: 0.2905\n",
      "Epoch 38/40\n",
      "800/800 [==============================] - 3s 4ms/step - loss: 0.3286\n",
      "Epoch 39/40\n",
      "800/800 [==============================] - 3s 4ms/step - loss: 0.2879\n",
      "Epoch 40/40\n",
      "800/800 [==============================] - 3s 4ms/step - loss: 0.2999\n"
     ]
    }
   ],
   "source": [
    "style_trainer(triplets, model, 40)"
   ]
  },
  {
   "cell_type": "code",
   "execution_count": 49,
   "metadata": {},
   "outputs": [],
   "source": [
    "model.save('obj/style_model.h5')"
   ]
  },
  {
   "cell_type": "code",
   "execution_count": null,
   "metadata": {},
   "outputs": [],
   "source": []
  }
 ],
 "metadata": {
  "kernelspec": {
   "display_name": "Python 3",
   "language": "python",
   "name": "python3"
  },
  "language_info": {
   "codemirror_mode": {
    "name": "ipython",
    "version": 3
   },
   "file_extension": ".py",
   "mimetype": "text/x-python",
   "name": "python",
   "nbconvert_exporter": "python",
   "pygments_lexer": "ipython3",
   "version": "3.6.5"
  }
 },
 "nbformat": 4,
 "nbformat_minor": 2
}
