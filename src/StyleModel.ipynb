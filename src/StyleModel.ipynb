{
 "cells": [
  {
   "cell_type": "code",
   "execution_count": 1,
   "metadata": {},
   "outputs": [
    {
     "name": "stderr",
     "output_type": "stream",
     "text": [
      "/home/henrik/miniconda3/lib/python3.6/site-packages/h5py/__init__.py:36: FutureWarning: Conversion of the second argument of issubdtype from `float` to `np.floating` is deprecated. In future, it will be treated as `np.float64 == np.dtype(float).type`.\n",
      "  from ._conv import register_converters as _register_converters\n",
      "Using TensorFlow backend.\n"
     ]
    }
   ],
   "source": [
    "from keras.models import load_model\n",
    "from keras.layers import *\n",
    "from keras import Model, Input\n",
    "from keras import optimizers\n",
    "import keras.backend as K\n",
    "import numpy as np\n",
    "import pickle\n",
    "\n",
    "\n",
    "def load(filepath):\n",
    "    with open(filepath, 'rb') as f:\n",
    "        return pickle.load(f)\n",
    "\n",
    "\n",
    "dataTriple = load('obj/triplets.pkl')\n",
    "triplets = dataTriple['triplets'] / 256\n"
   ]
  },
  {
   "cell_type": "code",
   "execution_count": 2,
   "metadata": {},
   "outputs": [],
   "source": [
    "def get_darknet():\n",
    "    model = load_model('obj/darknet.h5')\n",
    "    for layer in model.layers:\n",
    "        layer.trainable = False\n",
    "    return model\n",
    "\n",
    "\n",
    "def make_style_model():\n",
    "    darknet = get_darknet()\n",
    "\n",
    "    # pretrained layers\n",
    "    inputs = darknet.layers[0].input\n",
    "    x = darknet.layers[16].output\n",
    "\n",
    "    # new layers\n",
    "    x = Flatten()(x)\n",
    "    x = Dense(256, activation='relu')(x)\n",
    "    x = Dense(256, activation='relu')(x)\n",
    "    x = Lambda(l2_normalize)(x)\n",
    "    # Embedding model produces style embeddings\n",
    "    embedding_model = Model(inputs, x)\n",
    "\n",
    "    # Crate triple model to train the base model\n",
    "    # inputs for anchor, positive image, and negative image\n",
    "    input_anc = Input((256, 256, 3))\n",
    "    input_pos = Input((256, 256, 3))\n",
    "    input_neg = Input((256, 256, 3))\n",
    "\n",
    "    # the embedding of the anchor, positive image, and negative image\n",
    "    embed_anc = embedding_model(input_anc)\n",
    "    embed_pos = embedding_model(input_pos)\n",
    "    embed_neg = embedding_model(input_neg)\n",
    "\n",
    "    # distance between anchor and positive embeddings\n",
    "    dist_pos = Lambda(sqEucl, output_shape=(1,))([embed_anc, embed_pos])\n",
    "    # distance between anchor and negative embeddings\n",
    "    dist_neg = Lambda(sqEucl, output_shape=(1,))([embed_anc, embed_neg])\n",
    "\n",
    "    # The tiplet_loss: dist_pos - dist_neg + 1 < 0\n",
    "    triple_loss = Lambda(triplet_loss, output_shape=(1,))([dist_pos, dist_neg])\n",
    "    # triplet model, for training the embedding model\n",
    "    triple_model = Model([input_anc, input_pos, input_neg], triple_loss)\n",
    "    \n",
    "    style_model = Model([input_anc, input_pos], dist_pos)\n",
    "    \n",
    "    return triple_model, style_model\n",
    "\n",
    "\n",
    "def triplet_loss(x):\n",
    "    return K.maximum(x[0] - x[1] + 1, 0)\n",
    "\n",
    "\n",
    "def sqEucl(x):\n",
    "    return K.sum(K.square(x[0] - x[1]), axis=-1, keepdims=True)\n",
    "\n",
    "def l2_normalize(x, axis=-1):\n",
    "    \n",
    "    square_sum = K.sum(K.square(x), axis, keepdims=True)\n",
    "    x_inv_norm = 1. / K.sqrt(K.maximum(square_sum, 1e-6))\n",
    "    return x * x_inv_norm\n",
    "\n",
    "def identity(y_true, y_pred):\n",
    "    return K.mean(K.square(y_pred))\n"
   ]
  },
  {
   "cell_type": "code",
   "execution_count": null,
   "metadata": {},
   "outputs": [
    {
     "name": "stderr",
     "output_type": "stream",
     "text": [
      "/home/henrik/miniconda3/lib/python3.6/site-packages/keras/models.py:255: UserWarning: No training configuration found in save file: the model was *not* compiled. Compile it manually.\n",
      "  warnings.warn('No training configuration found in save file: '\n"
     ]
    },
    {
     "name": "stdout",
     "output_type": "stream",
     "text": [
      "WARNING:tensorflow:Variable *= will be deprecated. Use variable.assign_mul if you want assignment to the variable value or 'x = x * y' if you want a new python Tensor object.\n",
      "Epoch 1/20\n",
      "1000/1000 [==============================] - 8s 8ms/step - loss: 0.8929\n",
      "Epoch 2/20\n",
      "1000/1000 [==============================] - 6s 6ms/step - loss: 0.2372\n",
      "Epoch 3/20\n",
      "1000/1000 [==============================] - 5s 5ms/step - loss: 0.0955\n",
      "Epoch 4/20\n",
      "1000/1000 [==============================] - 5s 5ms/step - loss: 0.0760\n",
      "Epoch 5/20\n",
      "1000/1000 [==============================] - 5s 5ms/step - loss: 0.0723\n",
      "Epoch 6/20\n",
      "1000/1000 [==============================] - 5s 5ms/step - loss: 0.0712\n",
      "Epoch 7/20\n",
      "1000/1000 [==============================] - 6s 6ms/step - loss: 0.0707\n",
      "Epoch 8/20\n",
      "1000/1000 [==============================] - 6s 6ms/step - loss: 0.0705\n",
      "Epoch 9/20\n",
      "1000/1000 [==============================] - 5s 5ms/step - loss: 0.0704\n",
      "Epoch 10/20\n",
      "1000/1000 [==============================] - 5s 5ms/step - loss: 0.0703\n",
      "Epoch 11/20\n",
      "1000/1000 [==============================] - 5s 5ms/step - loss: 0.0702\n",
      "Epoch 12/20\n",
      "1000/1000 [==============================] - 5s 5ms/step - loss: 0.0702\n",
      "Epoch 13/20\n",
      "1000/1000 [==============================] - 5s 5ms/step - loss: 0.0702\n",
      "Epoch 14/20\n",
      "1000/1000 [==============================] - 5s 5ms/step - loss: 0.0702\n",
      "Epoch 15/20\n",
      "1000/1000 [==============================] - 5s 5ms/step - loss: 0.0702\n",
      "Epoch 16/20\n",
      "1000/1000 [==============================] - 5s 5ms/step - loss: 0.0702\n",
      "Epoch 17/20\n",
      "1000/1000 [==============================] - 5s 5ms/step - loss: 0.0702\n",
      "Epoch 18/20\n",
      "1000/1000 [==============================] - 5s 5ms/step - loss: 0.0702\n",
      "Epoch 19/20\n",
      "1000/1000 [==============================] - 5s 5ms/step - loss: 0.0702\n",
      "Epoch 20/20\n",
      " 736/1000 [=====================>........] - ETA: 1s - loss: 0.0701"
     ]
    }
   ],
   "source": [
    "triple_model, style_model = make_style_model()\n",
    "\n",
    "sgd = optimizers.SGD(lr=0.001, decay=1e-6, momentum=0.9, nesterov=True)\n",
    "triple_model.compile(optimizer=sgd, loss=identity)\n",
    "\n",
    "alphas = np.zeros(triplets.shape[0])\n",
    "triple_model.fit([triplets[:, 0], triplets[:, 1],\n",
    "                 triplets[:, 2]], alphas, epochs=20, batch_size=32)\n",
    "\n",
    "\n",
    "\n",
    "style_model.compile(optimizer=sgd, loss=identity)\n",
    "style_model.save('obj/style_embed_model.h5', custom_objects={\"tf\": tf})\n"
   ]
  },
  {
   "cell_type": "code",
   "execution_count": null,
   "metadata": {},
   "outputs": [],
   "source": []
  }
 ],
 "metadata": {
  "kernelspec": {
   "display_name": "Python 3",
   "language": "python",
   "name": "python3"
  },
  "language_info": {
   "codemirror_mode": {
    "name": "ipython",
    "version": 3
   },
   "file_extension": ".py",
   "mimetype": "text/x-python",
   "name": "python",
   "nbconvert_exporter": "python",
   "pygments_lexer": "ipython3",
   "version": "3.6.5"
  }
 },
 "nbformat": 4,
 "nbformat_minor": 2
}
