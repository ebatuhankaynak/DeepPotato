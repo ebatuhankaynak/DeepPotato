{
 "cells": [
  {
   "cell_type": "code",
   "execution_count": 1,
   "metadata": {},
   "outputs": [
    {
     "name": "stderr",
     "output_type": "stream",
     "text": [
      "/home/henrik/miniconda3/lib/python3.6/site-packages/h5py/__init__.py:36: FutureWarning: Conversion of the second argument of issubdtype from `float` to `np.floating` is deprecated. In future, it will be treated as `np.float64 == np.dtype(float).type`.\n",
      "  from ._conv import register_converters as _register_converters\n",
      "Using TensorFlow backend.\n"
     ]
    }
   ],
   "source": [
    "import keras.backend as K\n",
    "from keras.models import load_model\n",
    "from keras.layers import *\n",
    "from keras import Model\n",
    "import pickle\n",
    "import imageio\n",
    "import cv2\n",
    "\n",
    "def crop_img(img):\n",
    "    size = 256,256\n",
    "    width, height = img.shape[:2]\n",
    "    if img.ndim != 3: # remove bad images\n",
    "        return None\n",
    "    if width > height: # crop the image *on width\n",
    "        center = width // 2\n",
    "        left = center - height//2\n",
    "        right = center + height//2\n",
    "        img = img[left:right,:,:]\n",
    "    else: # crop the image on height\n",
    "        center = height // 2\n",
    "        up = center - width//2\n",
    "        down = center + width//2\n",
    "        img = img[:,up:down,:]\n",
    "    # resize the image\n",
    "    img = cv2.resize(img, dsize=size)\n",
    "    return img\n",
    "\n",
    "def load_jpg(filepath):\n",
    "    with open(filepath, 'rb') as f:\n",
    "        img = np.array(imageio.imread(f), dtype=np.float32) / 255\n",
    "    return crop_img(img).reshape(1,256,256,3)\n",
    "\n",
    "def load(filepath):\n",
    "    with open(filepath, 'rb') as f:\n",
    "        return pickle.load(f)\n",
    "    \n",
    "\n",
    "dataTriple = load('obj/triplets.pkl')\n",
    "triplets = dataTriple['triplets'] / 255\n",
    "triplets = triplets[::4,0,:,:,:]"
   ]
  },
  {
   "cell_type": "code",
   "execution_count": 2,
   "metadata": {},
   "outputs": [
    {
     "name": "stderr",
     "output_type": "stream",
     "text": [
      "/home/henrik/miniconda3/lib/python3.6/site-packages/keras/models.py:255: UserWarning: No training configuration found in save file: the model was *not* compiled. Compile it manually.\n",
      "  warnings.warn('No training configuration found in save file: '\n"
     ]
    }
   ],
   "source": [
    "def get_darknet():\n",
    "    model = load_model('obj/darknet.h5')\n",
    "    for layer in model.layers:\n",
    "        layer.trainable = False\n",
    "    return model\n",
    "\n",
    "\n",
    "def make_style_model():\n",
    "    darknet = get_darknet()\n",
    "\n",
    "    # pretrained layers\n",
    "    inputs = darknet.layers[0].input\n",
    "    xs = [darknet.get_layer('leaky_re_lu_%d'%d).output for d in range(3,7)]\n",
    "    # Embedding model produces style embeddings\n",
    "    base_model = Model(inputs, xs)\n",
    "    \n",
    "    # Crate triple model to train the base model\n",
    "    # inputs for anchor, positive image, and negative image\n",
    "    input_1 = Input((256, 256, 3))\n",
    "    input_2 = Input((256, 256, 3))\n",
    "    \n",
    "    fs1 = base_model(input_1)\n",
    "    fs2 = base_model(input_2)\n",
    "    fs2 = [AveragePooling2D()(f2) for f2 in fs2]\n",
    "    \n",
    "    sty_dist = [Lambda(channel_dist)([f1, f2]) for f1,f2 in zip(fs1, fs2)]\n",
    "    sty_dist = Add()(sty_dist)\n",
    "    style_model = Model([input_1, input_2], sty_dist)\n",
    "    \n",
    "    return style_model\n",
    "\n",
    "def channel_dist(x):\n",
    "    x, y = x\n",
    "    \n",
    "    n1, _, n3 = map(int, x.shape[1:])\n",
    "    m1, _, m3 = map(int, y.shape[1:])\n",
    "    trans_vectors = K.reshape(x, (-1, n1**2, 1, n3)) - K.reshape(y, (-1, 1, m1**2, m3))\n",
    "    eucl_dist = K.sum(K.square(trans_vectors), axis=3)\n",
    "    poly_dist = K.min(eucl_dist, axis=1)\n",
    "    return K.sum(poly_dist, axis=1, keepdims=True)\n",
    "    \n",
    "\n",
    "style_model = make_style_model()"
   ]
  },
  {
   "cell_type": "code",
   "execution_count": 3,
   "metadata": {},
   "outputs": [],
   "source": [
    "input_1 = K.placeholder((None,256,256,3))\n",
    "input_2 = K.placeholder((None,256,256,3))\n",
    "fun = K.function([input_1, input_2], [style_model([input_1, input_2])])"
   ]
  },
  {
   "cell_type": "code",
   "execution_count": 4,
   "metadata": {},
   "outputs": [
    {
     "name": "stdout",
     "output_type": "stream",
     "text": [
      "[array([[109953.805]], dtype=float32)]\n"
     ]
    }
   ],
   "source": [
    "im1= triplets[120].reshape(1,256,256,3)\n",
    "im2 = load_jpg('obj/Starry-Night.jpg')\n",
    "res = fun([im1, im2])\n",
    "print(res)"
   ]
  },
  {
   "cell_type": "code",
   "execution_count": 5,
   "metadata": {},
   "outputs": [],
   "source": [
    "style_model.save('obj/style_model.h5')"
   ]
  },
  {
   "cell_type": "code",
   "execution_count": null,
   "metadata": {},
   "outputs": [],
   "source": []
  }
 ],
 "metadata": {
  "kernelspec": {
   "display_name": "Python 3",
   "language": "python",
   "name": "python3"
  },
  "language_info": {
   "codemirror_mode": {
    "name": "ipython",
    "version": 3
   },
   "file_extension": ".py",
   "mimetype": "text/x-python",
   "name": "python",
   "nbconvert_exporter": "python",
   "pygments_lexer": "ipython3",
   "version": "3.6.5"
  }
 },
 "nbformat": 4,
 "nbformat_minor": 2
}
