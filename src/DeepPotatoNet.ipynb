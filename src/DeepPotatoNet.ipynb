{
 "cells": [
  {
   "cell_type": "code",
   "execution_count": 1,
   "metadata": {},
   "outputs": [
    {
     "name": "stderr",
     "output_type": "stream",
     "text": [
      "/home/henrik/miniconda3/lib/python3.6/site-packages/h5py/__init__.py:36: FutureWarning: Conversion of the second argument of issubdtype from `float` to `np.floating` is deprecated. In future, it will be treated as `np.float64 == np.dtype(float).type`.\n",
      "  from ._conv import register_converters as _register_converters\n",
      "Using TensorFlow backend.\n"
     ]
    }
   ],
   "source": [
    "import tensorflow as tf\n",
    "from keras.models import load_model\n",
    "from keras.layers import *\n",
    "from keras import Model, Sequential, Input\n",
    "from keras import optimizers\n",
    "import keras.backend as K\n",
    "import numpy as np\n",
    "from pprint import pprint\n",
    "import pickle"
   ]
  },
  {
   "cell_type": "code",
   "execution_count": 2,
   "metadata": {},
   "outputs": [],
   "source": [
    "def make_style_model():\n",
    "    model = load_model('darknet.h5')\n",
    "    inputs = model.layers[0].input\n",
    "    x = model.layers[16].output\n",
    "    for layer in model.layers:\n",
    "        layer.trainable = False\n",
    "    x = Flatten()(x)\n",
    "    x = Dense(128, activation='relu')(x)\n",
    "    x = Dense(128, activation='relu')(x)\n",
    "    return Model(inputs, x)\n",
    "\n",
    "\n",
    "def EuclSqDist(inputs):\n",
    "    return K.mean(K.square(inputs[0]- inputs[1]), axis=-1)\n",
    "\n",
    "\n",
    "def EuclSqLambda():\n",
    "    return Lambda(EuclSqDist, output_shape=(1,))\n",
    "\n",
    "def contrastive_loss(y, d):\n",
    "    \"\"\" Contrastive loss from Hadsell-et-al.'06\n",
    "        http://yann.lecun.com/exdb/publis/pdf/hadsell-chopra-lecun-06.pdf\n",
    "    \"\"\"\n",
    "    margin = 1\n",
    "    return K.mean(K.square(y * d + (1 - y) * (margin - d)))\n",
    "\n",
    "def load(filepath):\n",
    "    with open(filepath, 'rb') as f:\n",
    "        return pickle.load(f)"
   ]
  },
  {
   "cell_type": "code",
   "execution_count": 3,
   "metadata": {},
   "outputs": [
    {
     "name": "stderr",
     "output_type": "stream",
     "text": [
      "/home/henrik/miniconda3/lib/python3.6/site-packages/keras/models.py:255: UserWarning: No training configuration found in save file: the model was *not* compiled. Compile it manually.\n",
      "  warnings.warn('No training configuration found in save file: '\n"
     ]
    },
    {
     "name": "stdout",
     "output_type": "stream",
     "text": [
      "__________________________________________________________________________________________________\n",
      "Layer (type)                    Output Shape         Param #     Connected to                     \n",
      "==================================================================================================\n",
      "input_1 (InputLayer)            (None, 256, 256, 3)  0                                            \n",
      "__________________________________________________________________________________________________\n",
      "input_2 (InputLayer)            (None, 256, 256, 3)  0                                            \n",
      "__________________________________________________________________________________________________\n",
      "model_1 (Model)                 (None, 128)          4309104     input_1[0][0]                    \n",
      "                                                                 input_2[0][0]                    \n",
      "__________________________________________________________________________________________________\n",
      "lambda_1 (Lambda)               (None, 1)            0           model_1[1][0]                    \n",
      "                                                                 model_1[2][0]                    \n",
      "==================================================================================================\n",
      "Total params: 4,309,104\n",
      "Trainable params: 4,210,944\n",
      "Non-trainable params: 98,160\n",
      "__________________________________________________________________________________________________\n"
     ]
    }
   ],
   "source": [
    "base_model = make_style_model()\n",
    "input_a = Input((256,256,3))\n",
    "input_b = Input((256,256,3))\n",
    "encoding_a = base_model(input_a)\n",
    "encoding_b = base_model(input_b)\n",
    "dist = EuclSqLambda()([encoding_a, encoding_b])\n",
    "model = Model([input_a, input_b], dist)\n",
    "model.summary()"
   ]
  },
  {
   "cell_type": "code",
   "execution_count": 4,
   "metadata": {},
   "outputs": [
    {
     "name": "stdout",
     "output_type": "stream",
     "text": [
      "WARNING:tensorflow:Variable *= will be deprecated. Use variable.assign_mul if you want assignment to the variable value or 'x = x * y' if you want a new python Tensor object.\n",
      "Epoch 1/5\n",
      "400/400 [==============================] - 52s 131ms/step - loss: 0.3913\n",
      "Epoch 2/5\n",
      "400/400 [==============================] - 55s 137ms/step - loss: 0.3941\n",
      "Epoch 3/5\n",
      "400/400 [==============================] - 56s 140ms/step - loss: 0.4246\n",
      "Epoch 4/5\n",
      "400/400 [==============================] - 55s 138ms/step - loss: 0.3863\n",
      "Epoch 5/5\n",
      "400/400 [==============================] - 55s 138ms/step - loss: 0.3731\n"
     ]
    },
    {
     "data": {
      "text/plain": [
       "<keras.callbacks.History at 0x7fa41164aba8>"
      ]
     },
     "execution_count": 4,
     "metadata": {},
     "output_type": "execute_result"
    }
   ],
   "source": [
    "sgd = optimizers.SGD(lr=0.01, decay=1e-6, momentum=0.9, nesterov=True)\n",
    "model.compile(optimizer=sgd, loss=contrastive_loss)\n",
    "data = load('obj/imagePairs.pkl')\n",
    "pairs = (data['pairs'] - 128) / 256\n",
    "labels = data['labels']\n",
    "model.fit([pairs[:,0], pairs[:,1]], labels, epochs=5)"
   ]
  },
  {
   "cell_type": "code",
   "execution_count": 5,
   "metadata": {},
   "outputs": [
    {
     "name": "stdout",
     "output_type": "stream",
     "text": [
      "0.4984025559105431\n"
     ]
    }
   ],
   "source": [
    "def accuracy(pred, gt):\n",
    "    return gt[pred.ravel() < 0.5].mean()\n",
    "\n",
    "pred = model.predict([pairs[:, 0], pairs[:, 1]])\n",
    "print(accuracy(pred, labels))"
   ]
  }
 ],
 "metadata": {
  "kernelspec": {
   "display_name": "Python 3",
   "language": "python",
   "name": "python3"
  },
  "language_info": {
   "codemirror_mode": {
    "name": "ipython",
    "version": 3
   },
   "file_extension": ".py",
   "mimetype": "text/x-python",
   "name": "python",
   "nbconvert_exporter": "python",
   "pygments_lexer": "ipython3",
   "version": "3.6.5"
  }
 },
 "nbformat": 4,
 "nbformat_minor": 2
}
