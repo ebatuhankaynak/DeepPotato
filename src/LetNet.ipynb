{
 "cells": [
  {
   "cell_type": "code",
   "execution_count": 30,
   "metadata": {},
   "outputs": [],
   "source": [
    "import tensorflow as tf\n",
    "from keras.models import load_model\n",
    "from keras import Model, Sequential, Input\n",
    "from keras import optimizers\n",
    "import numpy as np\n",
    "from pprint import pprint"
   ]
  },
  {
   "cell_type": "code",
   "execution_count": 51,
   "metadata": {},
   "outputs": [],
   "source": [
    "def make_model():\n",
    "    model = load_model('darknet.h5')\n",
    "    inputs = model.layers[0].input\n",
    "    outputs = model.layers[16].output\n",
    "    return Model(inputs, outputs)\n",
    "    "
   ]
  },
  {
   "cell_type": "code",
   "execution_count": 52,
   "metadata": {},
   "outputs": [
    {
     "name": "stdout",
     "output_type": "stream",
     "text": [
      "['input_1',\n",
      " 'conv2d_1',\n",
      " 'batch_normalization_1',\n",
      " 'leaky_re_lu_1',\n",
      " 'max_pooling2d_1',\n",
      " 'conv2d_2',\n",
      " 'batch_normalization_2',\n",
      " 'leaky_re_lu_2',\n",
      " 'max_pooling2d_2',\n",
      " 'conv2d_3',\n",
      " 'batch_normalization_3',\n",
      " 'leaky_re_lu_3',\n",
      " 'max_pooling2d_3',\n",
      " 'conv2d_4',\n",
      " 'batch_normalization_4',\n",
      " 'leaky_re_lu_4',\n",
      " 'max_pooling2d_4']\n"
     ]
    },
    {
     "name": "stderr",
     "output_type": "stream",
     "text": [
      "/home/henrik/miniconda3/lib/python3.6/site-packages/keras/models.py:255: UserWarning: No training configuration found in save file: the model was *not* compiled. Compile it manually.\n",
      "  warnings.warn('No training configuration found in save file: '\n"
     ]
    }
   ],
   "source": [
    "model = make_model()\n",
    "pprint([layer.get_config()['name'] for layer in model.layers])"
   ]
  },
  {
   "cell_type": "code",
   "execution_count": 11,
   "metadata": {},
   "outputs": [],
   "source": []
  },
  {
   "cell_type": "code",
   "execution_count": null,
   "metadata": {},
   "outputs": [],
   "source": []
  }
 ],
 "metadata": {
  "kernelspec": {
   "display_name": "Python 3",
   "language": "python",
   "name": "python3"
  },
  "language_info": {
   "codemirror_mode": {
    "name": "ipython",
    "version": 3
   },
   "file_extension": ".py",
   "mimetype": "text/x-python",
   "name": "python",
   "nbconvert_exporter": "python",
   "pygments_lexer": "ipython3",
   "version": "3.6.4"
  }
 },
 "nbformat": 4,
 "nbformat_minor": 2
}
