{
 "cells": [
  {
   "cell_type": "code",
   "execution_count": 1,
   "metadata": {},
   "outputs": [
    {
     "name": "stderr",
     "output_type": "stream",
     "text": [
      "/home/henrik/miniconda3/lib/python3.6/site-packages/h5py/__init__.py:36: FutureWarning: Conversion of the second argument of issubdtype from `float` to `np.floating` is deprecated. In future, it will be treated as `np.float64 == np.dtype(float).type`.\n",
      "  from ._conv import register_converters as _register_converters\n",
      "Using TensorFlow backend.\n"
     ]
    }
   ],
   "source": [
    "import tensorflow as tf\n",
    "from keras.models import load_model\n",
    "from keras.layers import *\n",
    "from keras import Model, Input\n",
    "from keras import optimizers\n",
    "import keras.backend as K\n",
    "import numpy as np\n",
    "import pickle\n"
   ]
  },
  {
   "cell_type": "code",
   "execution_count": 2,
   "metadata": {},
   "outputs": [],
   "source": [
    "def get_darknet():\n",
    "    model = load_model('obj/darknet_mod.h5')\n",
    "    for layer in model.layers:\n",
    "        layer.trainable = False\n",
    "    return model\n",
    "\n",
    "def make_content_model():\n",
    "    darknet = get_darknet()\n",
    "    \n",
    "    # pretrained layers\n",
    "    inputs = darknet.layers[0].input\n",
    "    x = darknet.get_layer('conv2d_4').output\n",
    "    base_model = Model([inputs], [x])\n",
    "    input_content = Input((256,256,3))\n",
    "    input_output = Input((256,256,3))\n",
    "    \n",
    "    content_features = base_model(input_content)\n",
    "    output_features = base_model(input_output)\n",
    "    \n",
    "    loss = Lambda(contentLoss, output_shape=(1,))([content_features, output_features])\n",
    "    \n",
    "    return Model([input_content, input_output], [loss])\n",
    "\n",
    "\n",
    "def contentLoss(x):\n",
    "    n1, n2, n3 = map(int, x[0].shape[1:])\n",
    "    return K.flatten(K.sum(K.square(x[0] - x[1]), keepdims=True))"
   ]
  },
  {
   "cell_type": "code",
   "execution_count": 3,
   "metadata": {},
   "outputs": [
    {
     "name": "stderr",
     "output_type": "stream",
     "text": [
      "/home/henrik/miniconda3/lib/python3.6/site-packages/keras/models.py:255: UserWarning: No training configuration found in save file: the model was *not* compiled. Compile it manually.\n",
      "  warnings.warn('No training configuration found in save file: '\n"
     ]
    }
   ],
   "source": [
    "content_model = make_content_model()\n",
    "content_model.save('obj/content_model.h5')"
   ]
  },
  {
   "cell_type": "code",
   "execution_count": null,
   "metadata": {},
   "outputs": [],
   "source": []
  }
 ],
 "metadata": {
  "kernelspec": {
   "display_name": "Python 3",
   "language": "python",
   "name": "python3"
  },
  "language_info": {
   "codemirror_mode": {
    "name": "ipython",
    "version": 3
   },
   "file_extension": ".py",
   "mimetype": "text/x-python",
   "name": "python",
   "nbconvert_exporter": "python",
   "pygments_lexer": "ipython3",
   "version": "3.6.5"
  }
 },
 "nbformat": 4,
 "nbformat_minor": 2
}
